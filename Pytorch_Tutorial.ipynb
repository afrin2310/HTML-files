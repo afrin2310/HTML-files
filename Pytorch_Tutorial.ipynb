{
  "nbformat": 4,
  "nbformat_minor": 0,
  "metadata": {
    "colab": {
      "provenance": [],
      "authorship_tag": "ABX9TyMhQbwWuGQ2YYxhAI3R2Eeb",
      "include_colab_link": true
    },
    "kernelspec": {
      "name": "python3",
      "display_name": "Python 3"
    },
    "language_info": {
      "name": "python"
    }
  },
  "cells": [
    {
      "cell_type": "markdown",
      "metadata": {
        "id": "view-in-github",
        "colab_type": "text"
      },
      "source": [
        "<a href=\"https://colab.research.google.com/github/afrin2310/HTML-files/blob/main/Pytorch_Tutorial.ipynb\" target=\"_parent\"><img src=\"https://colab.research.google.com/assets/colab-badge.svg\" alt=\"Open In Colab\"/></a>"
      ]
    },
    {
      "cell_type": "code",
      "execution_count": null,
      "metadata": {
        "id": "XBLfTl2wQq87"
      },
      "outputs": [],
      "source": [
        "import torch"
      ]
    },
    {
      "cell_type": "code",
      "source": [
        "torch.rand(2,2)"
      ],
      "metadata": {
        "colab": {
          "base_uri": "https://localhost:8080/"
        },
        "id": "EwzPj2dcQ3OW",
        "outputId": "182249f2-0aa1-4fb4-d7fc-facdd740e7c6"
      },
      "execution_count": null,
      "outputs": [
        {
          "output_type": "execute_result",
          "data": {
            "text/plain": [
              "tensor([[0.9029, 0.6462],\n",
              "        [0.8117, 0.4702]])"
            ]
          },
          "metadata": {},
          "execution_count": 2
        }
      ]
    },
    {
      "cell_type": "code",
      "source": [
        "x=torch.empty(4) #1-D tensor\n",
        "print(x)"
      ],
      "metadata": {
        "colab": {
          "base_uri": "https://localhost:8080/"
        },
        "id": "hxS23hvQRD5L",
        "outputId": "7f84abf0-91f8-4153-ded2-769a2ddb0758"
      },
      "execution_count": null,
      "outputs": [
        {
          "output_type": "stream",
          "name": "stdout",
          "text": [
            "tensor([3.7858e-34, 0.0000e+00, 3.6368e-34, 0.0000e+00])\n"
          ]
        }
      ]
    },
    {
      "cell_type": "code",
      "source": [
        "x=torch.empty(2,3) #2-D tensor\n",
        "print(x)"
      ],
      "metadata": {
        "colab": {
          "base_uri": "https://localhost:8080/"
        },
        "id": "95GS7qiYRQwH",
        "outputId": "a9f4adb0-d950-46ca-fc10-6d952e327e65"
      },
      "execution_count": null,
      "outputs": [
        {
          "output_type": "stream",
          "name": "stdout",
          "text": [
            "tensor([[3.3704e-34, 0.0000e+00, 3.3608e-34],\n",
            "        [0.0000e+00, 2.0700e-19, 7.0362e+22]])\n"
          ]
        }
      ]
    },
    {
      "cell_type": "code",
      "source": [
        "torch.empty(2,2,3) #3-D Tensor"
      ],
      "metadata": {
        "colab": {
          "base_uri": "https://localhost:8080/"
        },
        "id": "Vln12d5eRlb4",
        "outputId": "002caf52-9d7f-4997-f880-a3c65f1afc15"
      },
      "execution_count": null,
      "outputs": [
        {
          "output_type": "execute_result",
          "data": {
            "text/plain": [
              "tensor([[[2.9948e+08, 4.3624e-41, 3.6014e-34],\n",
              "         [0.0000e+00, 3.4376e-34, 0.0000e+00]],\n",
              "\n",
              "        [[0.0000e+00, 0.0000e+00, 0.0000e+00],\n",
              "         [0.0000e+00, 3.3704e-34, 0.0000e+00]]])"
            ]
          },
          "metadata": {},
          "execution_count": 5
        }
      ]
    },
    {
      "cell_type": "code",
      "source": [
        "torch.empty(3,2,2,4) #4-D tensor"
      ],
      "metadata": {
        "colab": {
          "base_uri": "https://localhost:8080/"
        },
        "id": "nmJ_uDo_Rw3P",
        "outputId": "2397535a-3ce1-4785-e335-3b9d57157d43"
      },
      "execution_count": null,
      "outputs": [
        {
          "output_type": "execute_result",
          "data": {
            "text/plain": [
              "tensor([[[[2.9948e+08, 4.3624e-41, 3.3547e-34, 0.0000e+00],\n",
              "          [4.4842e-44, 0.0000e+00, 1.5695e-43, 0.0000e+00]],\n",
              "\n",
              "         [[3.4312e-34, 0.0000e+00, 0.0000e+00, 1.4013e-45],\n",
              "          [3.3650e-34, 0.0000e+00, 1.8619e-13, 4.3624e-41]]],\n",
              "\n",
              "\n",
              "        [[[3.3650e-34, 0.0000e+00, 1.0061e-11, 6.7016e-10],\n",
              "          [5.6052e-44, 0.0000e+00, 3.5873e-43, 2.5353e+30]],\n",
              "\n",
              "         [[1.9713e-13, 4.3624e-41, 0.0000e+00, 0.0000e+00],\n",
              "          [0.0000e+00, 0.0000e+00, 0.0000e+00, 0.0000e+00]]],\n",
              "\n",
              "\n",
              "        [[[4.3120e-08, 1.3087e-11, 2.7045e-43, 0.0000e+00],\n",
              "          [3.7871e-34, 0.0000e+00, 3.4347e-34, 0.0000e+00]],\n",
              "\n",
              "         [[2.4421e-18, 3.1360e+27, 7.0800e+31, 3.1095e-18],\n",
              "          [2.9907e+21, 1.1626e+27, 6.8664e-44, 0.0000e+00]]]])"
            ]
          },
          "metadata": {},
          "execution_count": 6
        }
      ]
    },
    {
      "cell_type": "code",
      "source": [
        "torch.zeros(2,2)"
      ],
      "metadata": {
        "colab": {
          "base_uri": "https://localhost:8080/"
        },
        "id": "6epDkt_1SfJK",
        "outputId": "6c72bfc2-1e7d-4504-880b-dbf6fc7a9ab9"
      },
      "execution_count": null,
      "outputs": [
        {
          "output_type": "execute_result",
          "data": {
            "text/plain": [
              "tensor([[0., 0.],\n",
              "        [0., 0.]])"
            ]
          },
          "metadata": {},
          "execution_count": 7
        }
      ]
    },
    {
      "cell_type": "code",
      "source": [
        "torch.ones(2,2)"
      ],
      "metadata": {
        "colab": {
          "base_uri": "https://localhost:8080/"
        },
        "id": "Hv_SpxDVSy_y",
        "outputId": "bdddc23e-0a93-49fb-96e5-070896a665ed"
      },
      "execution_count": null,
      "outputs": [
        {
          "output_type": "execute_result",
          "data": {
            "text/plain": [
              "tensor([[1., 1.],\n",
              "        [1., 1.]])"
            ]
          },
          "metadata": {},
          "execution_count": 8
        }
      ]
    },
    {
      "cell_type": "code",
      "source": [
        "x=torch.ones(2,2)\n",
        "print(x)"
      ],
      "metadata": {
        "colab": {
          "base_uri": "https://localhost:8080/"
        },
        "id": "d1sYADpHS5-z",
        "outputId": "1720274d-2f33-419e-b6a8-d9110146183a"
      },
      "execution_count": null,
      "outputs": [
        {
          "output_type": "stream",
          "name": "stdout",
          "text": [
            "tensor([[1., 1.],\n",
            "        [1., 1.]])\n"
          ]
        }
      ]
    },
    {
      "cell_type": "code",
      "source": [
        "x.size()"
      ],
      "metadata": {
        "colab": {
          "base_uri": "https://localhost:8080/"
        },
        "id": "K9_en6EITEWc",
        "outputId": "89d37663-d2de-4023-c620-97d4310ba11c"
      },
      "execution_count": null,
      "outputs": [
        {
          "output_type": "execute_result",
          "data": {
            "text/plain": [
              "torch.Size([2, 2])"
            ]
          },
          "metadata": {},
          "execution_count": 11
        }
      ]
    },
    {
      "cell_type": "code",
      "source": [
        "x.ndim"
      ],
      "metadata": {
        "colab": {
          "base_uri": "https://localhost:8080/"
        },
        "id": "y-H10rTUTOfY",
        "outputId": "4aa8bce1-371f-47f7-92bf-96fbf279168d"
      },
      "execution_count": null,
      "outputs": [
        {
          "output_type": "execute_result",
          "data": {
            "text/plain": [
              "2"
            ]
          },
          "metadata": {},
          "execution_count": 12
        }
      ]
    },
    {
      "cell_type": "code",
      "source": [
        "x=torch.ones(3,3,dtype=torch.int)\n",
        "print(x)"
      ],
      "metadata": {
        "colab": {
          "base_uri": "https://localhost:8080/"
        },
        "id": "Bk7GgvGcTQ-C",
        "outputId": "d9399f93-84d7-4426-aa67-4815f595af4f"
      },
      "execution_count": null,
      "outputs": [
        {
          "output_type": "stream",
          "name": "stdout",
          "text": [
            "tensor([[1, 1, 1],\n",
            "        [1, 1, 1],\n",
            "        [1, 1, 1]], dtype=torch.int32)\n"
          ]
        }
      ]
    },
    {
      "cell_type": "code",
      "source": [
        "torch.tensor([4.2,3.1,5,2])"
      ],
      "metadata": {
        "colab": {
          "base_uri": "https://localhost:8080/"
        },
        "id": "BONqEBWATU_S",
        "outputId": "4f7a8065-2c69-461c-b59e-6aa4aafd61c8"
      },
      "execution_count": null,
      "outputs": [
        {
          "output_type": "execute_result",
          "data": {
            "text/plain": [
              "tensor([4.2000, 3.1000, 5.0000, 2.0000])"
            ]
          },
          "metadata": {},
          "execution_count": 16
        }
      ]
    },
    {
      "cell_type": "code",
      "source": [
        "torch.manual_seed(42)\n",
        "x=torch.rand(2,2)\n",
        "y=torch.rand(2,2)\n",
        "print(x)\n",
        "print(y)"
      ],
      "metadata": {
        "colab": {
          "base_uri": "https://localhost:8080/"
        },
        "id": "bv8XAML9T2HJ",
        "outputId": "5c4934a6-67e6-4542-c9cb-069a7bcc54fc"
      },
      "execution_count": null,
      "outputs": [
        {
          "output_type": "stream",
          "name": "stdout",
          "text": [
            "tensor([[0.8823, 0.9150],\n",
            "        [0.3829, 0.9593]])\n",
            "tensor([[0.3904, 0.6009],\n",
            "        [0.2566, 0.7936]])\n"
          ]
        }
      ]
    },
    {
      "cell_type": "code",
      "source": [
        "z=x+y\n",
        "print(z)"
      ],
      "metadata": {
        "colab": {
          "base_uri": "https://localhost:8080/"
        },
        "id": "B2N2OcBzUDcC",
        "outputId": "46ebf450-9ae1-4454-f5ec-85393b29918b"
      },
      "execution_count": null,
      "outputs": [
        {
          "output_type": "stream",
          "name": "stdout",
          "text": [
            "tensor([[1.2727, 1.5159],\n",
            "        [0.6394, 1.7529]])\n"
          ]
        }
      ]
    },
    {
      "cell_type": "code",
      "source": [
        "torch.add(x,y)"
      ],
      "metadata": {
        "colab": {
          "base_uri": "https://localhost:8080/"
        },
        "id": "L-OOXC_FVpOC",
        "outputId": "58de25db-2989-4ce8-cd4b-2eee925a5606"
      },
      "execution_count": null,
      "outputs": [
        {
          "output_type": "execute_result",
          "data": {
            "text/plain": [
              "tensor([[1.2727, 1.5159],\n",
              "        [0.6394, 1.7529]])"
            ]
          },
          "metadata": {},
          "execution_count": 22
        }
      ]
    },
    {
      "cell_type": "code",
      "source": [
        "z=x-y\n",
        "print(z)"
      ],
      "metadata": {
        "colab": {
          "base_uri": "https://localhost:8080/"
        },
        "id": "F3OAB836V09a",
        "outputId": "689c5aad-4fc7-4474-fe2c-f8dce5e68940"
      },
      "execution_count": null,
      "outputs": [
        {
          "output_type": "stream",
          "name": "stdout",
          "text": [
            "tensor([[0.4918, 0.3141],\n",
            "        [0.1263, 0.1657]])\n"
          ]
        }
      ]
    },
    {
      "cell_type": "code",
      "source": [
        "torch.sub(x,y)"
      ],
      "metadata": {
        "colab": {
          "base_uri": "https://localhost:8080/"
        },
        "id": "b7FrLe1UV6Zf",
        "outputId": "835ff687-63db-4ce5-d699-7e207c388979"
      },
      "execution_count": null,
      "outputs": [
        {
          "output_type": "execute_result",
          "data": {
            "text/plain": [
              "tensor([[0.4918, 0.3141],\n",
              "        [0.1263, 0.1657]])"
            ]
          },
          "metadata": {},
          "execution_count": 25
        }
      ]
    },
    {
      "cell_type": "code",
      "source": [
        "torch.mul(x,y)"
      ],
      "metadata": {
        "colab": {
          "base_uri": "https://localhost:8080/"
        },
        "id": "YfcOV27hWcA5",
        "outputId": "95b22534-ccf2-4cab-c8be-b8cc2b1988f9"
      },
      "execution_count": null,
      "outputs": [
        {
          "output_type": "execute_result",
          "data": {
            "text/plain": [
              "tensor([[1.7030, 0.0934],\n",
              "        [1.5661, 0.6072]])"
            ]
          },
          "metadata": {},
          "execution_count": 30
        }
      ]
    },
    {
      "cell_type": "code",
      "source": [
        "x=torch.rand(2,2)\n",
        "y=torch.rand(2,2)\n",
        "print(x)\n",
        "print(y)"
      ],
      "metadata": {
        "colab": {
          "base_uri": "https://localhost:8080/"
        },
        "id": "jnzoO7hYWgUI",
        "outputId": "003c382b-f6c7-4af6-fc38-f46a44f5bb12"
      },
      "execution_count": null,
      "outputs": [
        {
          "output_type": "stream",
          "name": "stdout",
          "text": [
            "tensor([[0.9408, 0.1332],\n",
            "        [0.9346, 0.5936]])\n",
            "tensor([[0.8694, 0.5677],\n",
            "        [0.7411, 0.4294]])\n"
          ]
        }
      ]
    },
    {
      "cell_type": "code",
      "source": [
        "y.add_(x)"
      ],
      "metadata": {
        "colab": {
          "base_uri": "https://localhost:8080/"
        },
        "id": "iUsPzXO-WvMV",
        "outputId": "0546186c-adf9-41c8-87ea-8ebb12d9dfe6"
      },
      "execution_count": null,
      "outputs": [
        {
          "output_type": "execute_result",
          "data": {
            "text/plain": [
              "tensor([[1.8102, 0.7009],\n",
              "        [1.6757, 1.0230]])"
            ]
          },
          "metadata": {},
          "execution_count": 28
        }
      ]
    },
    {
      "cell_type": "code",
      "source": [
        "z=x+y\n",
        "print(z)"
      ],
      "metadata": {
        "colab": {
          "base_uri": "https://localhost:8080/"
        },
        "id": "Puf-DOVOWx4n",
        "outputId": "03d79681-e86c-4012-acd5-9c895f73f355"
      },
      "execution_count": null,
      "outputs": [
        {
          "output_type": "stream",
          "name": "stdout",
          "text": [
            "tensor([[2.7509, 0.8341],\n",
            "        [2.6103, 1.6166]])\n"
          ]
        }
      ]
    },
    {
      "cell_type": "code",
      "source": [
        "x=torch.rand(5,3)\n",
        "print(x)"
      ],
      "metadata": {
        "colab": {
          "base_uri": "https://localhost:8080/"
        },
        "id": "USLwx4p7W4D-",
        "outputId": "8559c667-aad6-4f35-bc12-1bd088ced31c"
      },
      "execution_count": null,
      "outputs": [
        {
          "output_type": "stream",
          "name": "stdout",
          "text": [
            "tensor([[0.0753, 0.8860, 0.5832],\n",
            "        [0.3376, 0.8090, 0.5779],\n",
            "        [0.9040, 0.5547, 0.3423],\n",
            "        [0.6343, 0.3644, 0.7104],\n",
            "        [0.9464, 0.7890, 0.2814]])\n"
          ]
        }
      ]
    },
    {
      "cell_type": "code",
      "source": [
        "x[:,1]"
      ],
      "metadata": {
        "colab": {
          "base_uri": "https://localhost:8080/"
        },
        "id": "Z5kxqn5LXMl4",
        "outputId": "43df9bc9-70db-47a2-81bb-3b3290ca3336"
      },
      "execution_count": null,
      "outputs": [
        {
          "output_type": "execute_result",
          "data": {
            "text/plain": [
              "tensor([0.8860, 0.8090, 0.5547, 0.3644, 0.7890])"
            ]
          },
          "metadata": {},
          "execution_count": 35
        }
      ]
    },
    {
      "cell_type": "code",
      "source": [
        "x[:,2]"
      ],
      "metadata": {
        "colab": {
          "base_uri": "https://localhost:8080/"
        },
        "id": "26r4YLO8Xa9r",
        "outputId": "15fb726f-1788-4ae1-cbaf-96206c96a21b"
      },
      "execution_count": null,
      "outputs": [
        {
          "output_type": "execute_result",
          "data": {
            "text/plain": [
              "tensor([0.5832, 0.5779, 0.3423, 0.7104, 0.2814])"
            ]
          },
          "metadata": {},
          "execution_count": 38
        }
      ]
    },
    {
      "cell_type": "code",
      "source": [
        "x=torch.rand(1)\n",
        "print(x)"
      ],
      "metadata": {
        "colab": {
          "base_uri": "https://localhost:8080/"
        },
        "id": "dEY4zjdLXw0_",
        "outputId": "f7bb334e-e3c2-4dc5-cba6-4f55b6928f98"
      },
      "execution_count": null,
      "outputs": [
        {
          "output_type": "stream",
          "name": "stdout",
          "text": [
            "tensor([0.7886])\n"
          ]
        }
      ]
    },
    {
      "cell_type": "code",
      "source": [
        "x.item()"
      ],
      "metadata": {
        "colab": {
          "base_uri": "https://localhost:8080/"
        },
        "id": "evV85MiQX53A",
        "outputId": "10bb7c0f-6361-4b74-e856-9d3135367c5a"
      },
      "execution_count": null,
      "outputs": [
        {
          "output_type": "execute_result",
          "data": {
            "text/plain": [
              "0.788632333278656"
            ]
          },
          "metadata": {},
          "execution_count": 41
        }
      ]
    },
    {
      "cell_type": "code",
      "source": [
        "x=torch.rand(4,4)\n",
        "print(x)\n",
        "x.view(16)"
      ],
      "metadata": {
        "colab": {
          "base_uri": "https://localhost:8080/"
        },
        "id": "SeyfNokXX82e",
        "outputId": "146010b9-38be-4c6b-8b58-a9551200b77f"
      },
      "execution_count": null,
      "outputs": [
        {
          "output_type": "stream",
          "name": "stdout",
          "text": [
            "tensor([[0.3278, 0.6532, 0.3958, 0.9147],\n",
            "        [0.2036, 0.2018, 0.2018, 0.9497],\n",
            "        [0.6666, 0.9811, 0.0874, 0.0041],\n",
            "        [0.1088, 0.1637, 0.7025, 0.6790]])\n"
          ]
        },
        {
          "output_type": "execute_result",
          "data": {
            "text/plain": [
              "tensor([0.3278, 0.6532, 0.3958, 0.9147, 0.2036, 0.2018, 0.2018, 0.9497, 0.6666,\n",
              "        0.9811, 0.0874, 0.0041, 0.1088, 0.1637, 0.7025, 0.6790])"
            ]
          },
          "metadata": {},
          "execution_count": 43
        }
      ]
    },
    {
      "cell_type": "code",
      "source": [
        "x.view(2,2,4)"
      ],
      "metadata": {
        "colab": {
          "base_uri": "https://localhost:8080/"
        },
        "id": "aGvWLE0mYH4j",
        "outputId": "be9ecf21-75d6-49c2-ac79-55f37c8e6638"
      },
      "execution_count": null,
      "outputs": [
        {
          "output_type": "execute_result",
          "data": {
            "text/plain": [
              "tensor([[[0.3278, 0.6532, 0.3958, 0.9147],\n",
              "         [0.2036, 0.2018, 0.2018, 0.9497]],\n",
              "\n",
              "        [[0.6666, 0.9811, 0.0874, 0.0041],\n",
              "         [0.1088, 0.1637, 0.7025, 0.6790]]])"
            ]
          },
          "metadata": {},
          "execution_count": 44
        }
      ]
    },
    {
      "cell_type": "code",
      "source": [
        "#Convering tensor into a numpy array\n",
        "a=torch.ones(6)\n",
        "print(a)\n",
        "print(type(a))\n",
        "print(\"-----------\")\n",
        "b=a.numpy()\n",
        "print(b)\n",
        "print(type(b))"
      ],
      "metadata": {
        "colab": {
          "base_uri": "https://localhost:8080/"
        },
        "id": "gUP1CUFUYX1I",
        "outputId": "c5923f9a-1e1d-403f-9cd0-671dfea83c90"
      },
      "execution_count": null,
      "outputs": [
        {
          "output_type": "stream",
          "name": "stdout",
          "text": [
            "tensor([1., 1., 1., 1., 1., 1.])\n",
            "<class 'torch.Tensor'>\n",
            "-----------\n",
            "[1. 1. 1. 1. 1. 1.]\n",
            "<class 'numpy.ndarray'>\n"
          ]
        }
      ]
    },
    {
      "cell_type": "code",
      "source": [
        "a.add(3)"
      ],
      "metadata": {
        "colab": {
          "base_uri": "https://localhost:8080/"
        },
        "id": "bQn0fUixZIUY",
        "outputId": "709a227c-aa94-4c46-bac3-611e93c0daf6"
      },
      "execution_count": null,
      "outputs": [
        {
          "output_type": "execute_result",
          "data": {
            "text/plain": [
              "tensor([13., 13., 13., 13., 13., 13.])"
            ]
          },
          "metadata": {},
          "execution_count": 52
        }
      ]
    },
    {
      "cell_type": "code",
      "source": [
        "print(b)"
      ],
      "metadata": {
        "colab": {
          "base_uri": "https://localhost:8080/"
        },
        "id": "dzfehPaeZV2z",
        "outputId": "1fa2a3f3-1970-4ca0-d31d-cb36d0695ac0"
      },
      "execution_count": null,
      "outputs": [
        {
          "output_type": "stream",
          "name": "stdout",
          "text": [
            "[10. 10. 10. 10. 10. 10.]\n"
          ]
        }
      ]
    },
    {
      "cell_type": "code",
      "source": [
        "#Convert Numpy array to a tensor\n",
        "import numpy as np\n",
        "a=np.ones(5)\n",
        "print(a)\n",
        "print(type(a))\n",
        "b=torch.from_numpy(a)\n",
        "print(b)\n",
        "\n"
      ],
      "metadata": {
        "colab": {
          "base_uri": "https://localhost:8080/"
        },
        "id": "RZ6WDXT4bFBg",
        "outputId": "b5c1533c-6930-4b4f-d336-ec6b17ce79cf"
      },
      "execution_count": null,
      "outputs": [
        {
          "output_type": "stream",
          "name": "stdout",
          "text": [
            "[1. 1. 1. 1. 1.]\n",
            "<class 'numpy.ndarray'>\n",
            "tensor([1., 1., 1., 1., 1.], dtype=torch.float64)\n"
          ]
        }
      ]
    },
    {
      "cell_type": "code",
      "source": [
        "a+=2\n",
        "print(a)"
      ],
      "metadata": {
        "colab": {
          "base_uri": "https://localhost:8080/"
        },
        "id": "5UZ_HG0Ieagq",
        "outputId": "7a692bdc-2b27-4de6-8ce2-04958fe0869e"
      },
      "execution_count": null,
      "outputs": [
        {
          "output_type": "stream",
          "name": "stdout",
          "text": [
            "[3. 3. 3. 3. 3.]\n"
          ]
        }
      ]
    },
    {
      "cell_type": "code",
      "source": [
        "print(b)\n"
      ],
      "metadata": {
        "colab": {
          "base_uri": "https://localhost:8080/"
        },
        "id": "Raf5AJn5egMj",
        "outputId": "e77a6824-9a65-464e-9a66-714a57657f45"
      },
      "execution_count": null,
      "outputs": [
        {
          "output_type": "stream",
          "name": "stdout",
          "text": [
            "tensor([3., 3., 3., 3., 3.], dtype=torch.float64)\n"
          ]
        }
      ]
    },
    {
      "cell_type": "code",
      "source": [
        "#Backpropogationin pytorch\n",
        "x=torch.tensor(4.,requires_grad=True)\n",
        "print(x)"
      ],
      "metadata": {
        "colab": {
          "base_uri": "https://localhost:8080/"
        },
        "id": "jhmXJax3eiP9",
        "outputId": "69d50e6a-5fa7-4efa-a1af-2cd4cc3a59fe"
      },
      "execution_count": null,
      "outputs": [
        {
          "output_type": "stream",
          "name": "stdout",
          "text": [
            "tensor(4., requires_grad=True)\n"
          ]
        }
      ]
    },
    {
      "cell_type": "code",
      "source": [],
      "metadata": {
        "id": "nJKOlDl8fErG"
      },
      "execution_count": null,
      "outputs": []
    }
  ]
}